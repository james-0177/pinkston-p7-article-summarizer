{
 "cells": [
  {
   "cell_type": "markdown",
   "metadata": {},
   "source": [
    "# Web Mining and Applied NLP (44-620)\n",
    "\n",
    "## Final Project:  Article Summarizer\n",
    "\n",
    "### Student Name:  James Pinkston\n",
    "\n",
    "#### GitHub:  https://github.com/james-0177/pinkston-p7-article-summarizer\n",
    "\n",
    "Perform the tasks described in the Markdown cells below.  When you have completed the assignment make sure your code cells have all been run (and have output beneath them) and ensure you have committed and pushed ALL of your changes to your assignment repository.\n",
    "\n",
    "You should bring in code from previous assignments to help you answer the questions below.\n",
    "\n",
    "Every question that requires you to write code will have a code cell underneath it; you may either write your entire solution in that cell or write it in a python file (`.py`), then import and run the appropriate code to answer the question."
   ]
  },
  {
   "cell_type": "code",
   "execution_count": null,
   "metadata": {},
   "outputs": [
    {
     "name": "stdout",
     "output_type": "stream",
     "text": [
      "Package                   Version\n",
      "------------------------- --------------\n",
      "annotated-types           0.7.0\n",
      "anyio                     4.9.0\n",
      "argon2-cffi               25.1.0\n",
      "argon2-cffi-bindings      21.2.0\n",
      "arrow                     1.3.0\n",
      "asttokens                 3.0.0\n",
      "async-lru                 2.0.5\n",
      "attrs                     25.3.0\n",
      "babel                     2.17.0\n",
      "beautifulsoup4            4.13.4\n",
      "bleach                    6.2.0\n",
      "blis                      1.3.0\n",
      "catalogue                 2.0.10\n",
      "certifi                   2025.6.15\n",
      "cffi                      1.17.1\n",
      "charset-normalizer        3.4.2\n",
      "click                     8.2.1\n",
      "cloudpathlib              0.21.1\n",
      "colorama                  0.4.6\n",
      "comm                      0.2.2\n",
      "confection                0.1.5\n",
      "contourpy                 1.3.2\n",
      "cycler                    0.12.1\n",
      "cymem                     2.0.11\n",
      "debugpy                   1.8.14\n",
      "decorator                 5.2.1\n",
      "defusedxml                0.7.1\n",
      "en_core_web_sm            3.8.0\n",
      "executing                 2.2.0\n",
      "fastjsonschema            2.21.1\n",
      "fonttools                 4.58.4\n",
      "fqdn                      1.5.1\n",
      "h11                       0.16.0\n",
      "html5lib                  1.1\n",
      "httpcore                  1.0.9\n",
      "httpx                     0.28.1\n",
      "idna                      3.10\n",
      "ipykernel                 6.29.5\n",
      "ipython                   9.3.0\n",
      "ipython_pygments_lexers   1.1.1\n",
      "isoduration               20.11.0\n",
      "jedi                      0.19.2\n",
      "Jinja2                    3.1.6\n",
      "joblib                    1.5.1\n",
      "json5                     0.12.0\n",
      "jsonpointer               3.0.0\n",
      "jsonschema                4.24.0\n",
      "jsonschema-specifications 2025.4.1\n",
      "jupyter_client            8.6.3\n",
      "jupyter_core              5.8.1\n",
      "jupyter-events            0.12.0\n",
      "jupyter-lsp               2.2.5\n",
      "jupyter_server            2.16.0\n",
      "jupyter_server_terminals  0.5.3\n",
      "jupyterlab                4.4.3\n",
      "jupyterlab_pygments       0.3.0\n",
      "jupyterlab_server         2.27.3\n",
      "kiwisolver                1.4.8\n",
      "langcodes                 3.5.0\n",
      "language_data             1.3.0\n",
      "marisa-trie               1.2.1\n",
      "markdown-it-py            3.0.0\n",
      "MarkupSafe                3.0.2\n",
      "matplotlib                3.10.3\n",
      "matplotlib-inline         0.1.7\n",
      "mdurl                     0.1.2\n",
      "mistune                   3.1.3\n",
      "murmurhash                1.0.13\n",
      "nbclient                  0.10.2\n",
      "nbconvert                 7.16.6\n",
      "nbformat                  5.10.4\n",
      "nest-asyncio              1.6.0\n",
      "nltk                      3.9.1\n",
      "notebook_shim             0.2.4\n",
      "numpy                     2.3.1\n",
      "overrides                 7.7.0\n",
      "packaging                 25.0\n",
      "pandocfilters             1.5.1\n",
      "parso                     0.8.4\n",
      "pillow                    11.2.1\n",
      "pip                       25.1.1\n",
      "platformdirs              4.3.8\n",
      "preshed                   3.0.10\n",
      "prometheus_client         0.22.1\n",
      "prompt_toolkit            3.0.51\n",
      "psutil                    7.0.0\n",
      "pure_eval                 0.2.3\n",
      "pycparser                 2.22\n",
      "pydantic                  2.11.7\n",
      "pydantic_core             2.33.2\n",
      "Pygments                  2.19.2\n",
      "pyparsing                 3.2.3\n",
      "python-dateutil           2.9.0.post0\n",
      "python-json-logger        3.3.0\n",
      "pywin32                   310\n",
      "pywinpty                  2.0.15\n",
      "PyYAML                    6.0.2\n",
      "pyzmq                     27.0.0\n",
      "referencing               0.36.2\n",
      "regex                     2024.11.6\n",
      "requests                  2.32.4\n",
      "rfc3339-validator         0.1.4\n",
      "rfc3986-validator         0.1.1\n",
      "rich                      14.0.0\n",
      "rpds-py                   0.25.1\n",
      "Send2Trash                1.8.3\n",
      "setuptools                80.9.0\n",
      "shellingham               1.5.4\n",
      "six                       1.17.0\n",
      "smart_open                7.3.0.post1\n",
      "sniffio                   1.3.1\n",
      "soupsieve                 2.7\n",
      "spacy                     3.8.7\n",
      "spacy-legacy              3.0.12\n",
      "spacy-loggers             1.0.5\n",
      "spacytextblob             5.0.0\n",
      "srsly                     2.5.1\n",
      "stack-data                0.6.3\n",
      "terminado                 0.18.1\n",
      "textblob                  0.19.0\n",
      "thinc                     8.3.6\n",
      "tinycss2                  1.4.0\n",
      "tornado                   6.5.1\n",
      "tqdm                      4.67.1\n",
      "traitlets                 5.14.3\n",
      "typer                     0.16.0\n",
      "types-python-dateutil     2.9.0.20250516\n",
      "typing_extensions         4.14.0\n",
      "typing-inspection         0.4.1\n",
      "uri-template              1.3.0\n",
      "urllib3                   2.5.0\n",
      "wasabi                    1.1.3\n",
      "wcwidth                   0.2.13\n",
      "weasel                    0.4.1\n",
      "webcolors                 24.11.1\n",
      "webencodings              0.5.1\n",
      "websocket-client          1.8.0\n",
      "wheel                     0.45.1\n",
      "wrapt                     1.17.2\n",
      "All prereqs installed.\n"
     ]
    }
   ],
   "source": [
    "# Module 7 - Project 7:  Article Summarizer\n",
    "# The following is a list of potential imports.\n",
    "\n",
    "from collections import Counter\n",
    "import json\n",
    "import pickle\n",
    "import requests\n",
    "import spacy\n",
    "from bs4 import BeautifulSoup\n",
    "import matplotlib.pyplot as plt\n",
    "\n",
    "!pip list\n",
    "\n",
    "print('All prereqs installed.')"
   ]
  },
  {
   "cell_type": "markdown",
   "metadata": {},
   "source": [
    "### Q1. Find on the internet an article or blog post about a topic that interests you and you are able to get the text for using the technologies we have applied in the course.  Get the html for the article and store it in a file (which you must submit with your project)"
   ]
  },
  {
   "cell_type": "code",
   "execution_count": 13,
   "metadata": {},
   "outputs": [],
   "source": [
    "import requests\n",
    "import pickle\n",
    "from bs4 import BeautifulSoup\n",
    "\n",
    "url = \"https://www.realcleardefense.com/articles/2025/04/08/navigating_a_changing_military_recruitment_environment_1102614.html\"\n",
    "\n",
    "headers = {\n",
    "    \"User-Agent\":  \"Mozilla/5.0 (Windows NT 10.0; Win64; x64) AppleWebKit/537.36 (KHTML, like Gecko) Chrome/115.0.0.0 Safari/537.36\",\n",
    "    \"Accept-Language\": \"en-US,en;q=0.9\",\n",
    "    \"Accept\": \"text/html,application/xhtml+xml,application/xml;q=0.9,image/webp,*/*;q=0.8\",\n",
    "    \"Referer\": \"https://www.realcleardefense.com/\",\n",
    "    \"Connection\": \"keep-alive\",\n",
    "    \"Upgrade-Insecure-Requests\": \"1\",\n",
    "    \"DNT\": \"1\"  # Do Not Track\n",
    "}\n",
    "\n",
    "response = requests.get(url, headers=headers)\n",
    "response.raise_for_status()\n",
    "\n",
    "soup = BeautifulSoup(response.text, \"html.parser\")\n",
    "\n",
    "article_div = soup.select_one(\"div.article-body-text.center\")\n",
    "\n",
    "if article_div:\n",
    "    article_text = article_div.get_text(separator=\"\\n\", strip=True)\n",
    "\n",
    "    unwanted_lines = {\n",
    "        \"X\",\n",
    "        \"Story Stream\",\n",
    "        \"recent articles\",\n",
    "        \"Video: Global Warming Lorem Ipsum Dolor Sit ...\",\n",
    "        \"Article: Global Warming Lorem Ipsum Dolor Sit ...\",\n",
    "        \"Entry: Global Warming Lorem Ipsum Dolor Sit ...\"\n",
    "    }\n",
    "\n",
    "    lines = article_text.split(\"\\n\")\n",
    "    filtered = [line for line in lines if line not in unwanted_lines]\n",
    "    article_text = \"\\n\".join(filtered)\n",
    "else:\n",
    "    article_text = \"Article content not found\"\n",
    "\n",
    "with open(\"article_text.pkl\", \"wb\") as f:\n",
    "    pickle.dump(article_text, f)"
   ]
  },
  {
   "cell_type": "markdown",
   "metadata": {},
   "source": [
    "### Q2. Read in your article's html source from the file you created in question 1 and do sentiment analysis on the article/post's text (use `.get_text()`).  Print the polarity score with an appropriate label.  Additionally print the number of sentences in the original article (with an appropriate label)"
   ]
  },
  {
   "cell_type": "code",
   "execution_count": 15,
   "metadata": {},
   "outputs": [
    {
     "name": "stdout",
     "output_type": "stream",
     "text": [
      "Polarity Score:  0.063\n",
      "Number of Sentences:  34\n"
     ]
    }
   ],
   "source": [
    "import spacy\n",
    "from spacytextblob.spacytextblob import SpacyTextBlob\n",
    "from spacy.tokens import Doc\n",
    "import pickle\n",
    "\n",
    "nlp = spacy.load(\"en_core_web_sm\")\n",
    "if \"spacytextblob\" not in nlp.pipe_names:\n",
    "    nlp.add_pipe(\"spacytextblob\")\n",
    "\n",
    "if not Doc.has_extension(\"polarity\"):\n",
    "    Doc.set_extension(\"polarity\", getter=lambda doc: doc._.blob.polarity)\n",
    "    \n",
    "with open(\"article_text.pkl\", \"rb\") as f:\n",
    "    article_text = pickle.load(f)\n",
    "\n",
    "doc = nlp(article_text)\n",
    "\n",
    "print(f\"Polarity Score:  {doc._.polarity:.3f}\")\n",
    "\n",
    "print(f\"Number of Sentences:  {len(list(doc.sents))}\")"
   ]
  },
  {
   "cell_type": "markdown",
   "metadata": {},
   "source": [
    "### Q3. Load the article text into a trained `spaCy` pipeline, and determine the 5 most frequent tokens (converted to lower case).  Print the common tokens with an appropriate label.  Additionally, print the tokens their frequencies (with appropriate labels)"
   ]
  },
  {
   "cell_type": "code",
   "execution_count": 17,
   "metadata": {},
   "outputs": [
    {
     "name": "stdout",
     "output_type": "stream",
     "text": [
      "5 Most Frequent Tokens and Their Frequencies:\n",
      "Token:  'recruiting' - Frequency:  14\n",
      "Token:  'military' - Frequency:  10\n",
      "Token:  'recruits' - Frequency:  6\n",
      "Token:  'research' - Frequency:  6\n",
      "Token:  'services' - Frequency:  5\n"
     ]
    }
   ],
   "source": [
    "import spacy\n",
    "from collections import Counter\n",
    "import pickle\n",
    "\n",
    "nlp = spacy.load(\"en_core_web_sm\")\n",
    "\n",
    "with open(\"article_text.pkl\", \"rb\") as f:\n",
    "    article_text = pickle.load(f)\n",
    "\n",
    "doc = nlp(article_text)\n",
    "\n",
    "tokens = [token.text.lower() for token in doc if token.is_alpha and not token.is_stop]\n",
    "\n",
    "freq = Counter(tokens)\n",
    "\n",
    "most_common = freq.most_common(5)\n",
    "\n",
    "print(\"5 Most Frequent Tokens and Their Frequencies:\")\n",
    "for token, count in most_common:\n",
    "    print(f\"Token:  '{token}' - Frequency:  {count}\")"
   ]
  },
  {
   "cell_type": "markdown",
   "metadata": {},
   "source": [
    "### Q4. Load the article text into a trained `spaCy` pipeline, and determine the 5 most frequent lemmas (converted to lower case).  Print the common lemmas with an appropriate label.  Additionally, print the lemmas with their frequencies (with appropriate labels)."
   ]
  },
  {
   "cell_type": "code",
   "execution_count": 18,
   "metadata": {},
   "outputs": [
    {
     "name": "stdout",
     "output_type": "stream",
     "text": [
      "5 Most Frequent Lemmas and Their Frequencies:\n",
      "Lemma:  'recruit' - Frequency:  11\n",
      "Lemma:  'recruiting' - Frequency:  11\n",
      "Lemma:  'military' - Frequency:  10\n",
      "Lemma:  'meet' - Frequency:  9\n",
      "Lemma:  'service' - Frequency:  6\n"
     ]
    }
   ],
   "source": [
    "import spacy\n",
    "from collections import Counter\n",
    "import pickle\n",
    "\n",
    "nlp = spacy.load(\"en_core_web_sm\")\n",
    "\n",
    "with open(\"article_text.pkl\", \"rb\") as f:\n",
    "    article_text = pickle.load(f)\n",
    "\n",
    "doc = nlp(article_text)\n",
    "\n",
    "lemmas = [token.lemma_.lower() for token in doc if token.is_alpha and not token.is_stop]\n",
    "\n",
    "freq = Counter(lemmas)\n",
    "\n",
    "most_common = freq.most_common(5)\n",
    "\n",
    "print(\"5 Most Frequent Lemmas and Their Frequencies:\")\n",
    "for lemma, count in most_common:\n",
    "    print(f\"Lemma:  '{lemma}' - Frequency:  {count}\")"
   ]
  },
  {
   "cell_type": "markdown",
   "metadata": {},
   "source": [
    "### Q5. Make a list containing the scores (using tokens) of every sentence in the article, and plot a histogram with appropriate titles and axis labels of the scores. From your histogram, what seems to be the most common range of scores (put the answer in a comment after your code)?"
   ]
  },
  {
   "cell_type": "code",
   "execution_count": 24,
   "metadata": {},
   "outputs": [
    {
     "data": {
      "image/png": "[encoded data removed]",
      "text/plain": [
       "<Figure size 800x500 with 1 Axes>"
      ]
     },
     "metadata": {},
     "output_type": "display_data"
    }
   ],
   "source": [
    "import spacy\n",
    "from spacytextblob.spacytextblob import SpacyTextBlob\n",
    "import pickle\n",
    "import matplotlib.pyplot as plt\n",
    "\n",
    "nlp = spacy.load(\"en_core_web_sm\")\n",
    "if \"spacytextblob\" not in nlp.pipe_names:\n",
    "    nlp.add_pipe(\"spacytextblob\")\n",
    "\n",
    "with open(\"article_text.pkl\", \"rb\") as f:\n",
    "    article_text = pickle.load(f)\n",
    "\n",
    "doc = nlp(article_text)\n",
    "\n",
    "sentence_scores = [sent._.blob.polarity for sent in doc.sents]\n",
    "\n",
    "plt.figure(figsize=(8, 5))\n",
    "plt.hist(sentence_scores, bins = 20, color='cornflowerblue', edgecolor='black')\n",
    "plt.title(\"Histogram of Sentence Polarity Scores\")\n",
    "plt.xlabel(\"Polarity Score\")\n",
    "plt.ylabel(\"Number of Sentences\")\n",
    "plt.grid(axis=\"y\", alpha=0.75)\n",
    "plt.show()\n",
    "\n",
    "# The most common range of polarity scores appears to be between -0.1 and 0.1, indicating that\n",
    "# most sentences have a very slight negative to slightly positive sentiment."
   ]
  },
  {
   "cell_type": "markdown",
   "metadata": {},
   "source": [
    "### Q6. Make a list containing the scores (using lemmas) of every sentence in the article, and plot a histogram with appropriate titles and axis labels of the scores.  From your histogram, what seems to be the most common range of scores (put the answer in a comment after your code)?"
   ]
  },
  {
   "cell_type": "code",
   "execution_count": 30,
   "metadata": {},
   "outputs": [
    {
     "data": {
      "image/png": "[encoded data removed]",
      "text/plain": [
       "<Figure size 800x500 with 1 Axes>"
      ]
     },
     "metadata": {},
     "output_type": "display_data"
    }
   ],
   "source": [
    "import spacy\n",
    "from spacytextblob.spacytextblob import SpacyTextBlob\n",
    "import pickle\n",
    "import matplotlib.pyplot as plt\n",
    "from spacy.tokens import Doc\n",
    "\n",
    "nlp = spacy.load(\"en_core_web_sm\")\n",
    "if \"spacytextblob\" not in nlp.pipe_names:\n",
    "    nlp.add_pipe(\"spacytextblob\")\n",
    "\n",
    "with open(\"article_text.pkl\", \"rb\") as f:\n",
    "    article_text = pickle.load(f)\n",
    "\n",
    "doc = nlp(article_text)\n",
    "\n",
    "sentence_lemma_scores = []\n",
    "\n",
    "for sent in doc.sents:\n",
    "    lemmas = [token.lemma_ for token in sent if not token.is_punct and not token.is_space]\n",
    "    lemma_sentence = \" \".join(lemmas)\n",
    "    lemma_doc = nlp(lemma_sentence)\n",
    "    sentence_lemma_scores.append(lemma_doc._.blob.polarity)\n",
    "\n",
    "plt.figure(figsize=(8, 5))\n",
    "plt.hist(sentence_scores, bins = 20, color='coral', edgecolor='black')\n",
    "plt.title(\"Histogram of Sentence Polarity Scores (Lemmas)\")\n",
    "plt.xlabel(\"Polarity Score\")\n",
    "plt.ylabel(\"Number of Sentences\")\n",
    "plt.grid(axis=\"y\", alpha=0.75)\n",
    "plt.show()\n",
    "\n",
    "# The most common range of polarity scores appears to be between -0.1 and 0.1, indicating that\n",
    "# most sentences have a very slight negative to slightly positive sentiment when analyzed using lemmas."
   ]
  },
  {
   "cell_type": "markdown",
   "metadata": {},
   "source": [
    "### Q7. Using the histograms from questions 5 and 6, decide a \"cutoff\" score for tokens and lemmas such that fewer than half the sentences would have a score greater than the cutoff score.  Record the scores in this Markdown cell\n",
    "\n",
    "* Cutoff Score (tokens):  0.1 \n",
    "* Cutoff Score (lemmas):  0.1\n",
    "\n",
    "Feel free to change these scores as you generate your summaries.  Ideally, we're shooting for at least 6 sentences for our summary, but don't want more than 10 (these numbers are rough estimates; they depend on the length of your article)."
   ]
  },
  {
   "cell_type": "markdown",
   "metadata": {},
   "source": [
    "### Q8. Create a summary of the article by going through every sentence in the article and adding it to an (initially) empty list if its score (based on tokens) is greater than the cutoff score you identified in question 8.  If your loop variable is named `sent`, you may find it easier to add `sent.text.strip()` to your list of sentences.  Print the summary (I would cleanly generate the summary text by `join`ing the strings in your list together with a space (`' '.join(sentence_list)`)."
   ]
  },
  {
   "cell_type": "code",
   "execution_count": 3,
   "metadata": {},
   "outputs": [
    {
     "name": "stdout",
     "output_type": "stream",
     "text": [
      "Summary based on token polarity scores > 0.1:\n",
      "\n",
      "In a significant shift, last year saw gains in military recruiting across the services and most met their recruiting goals for the first time in years. As of Fiscal Year 2024, all branches of the U.S. military, except the Navy, have successfully met their active duty enlisted recruiting missions. As FY 2025 unfolds, the Army, Navy, and Marine Corps are not only meeting but exceeding their recruiting missions as of December, the latest month for which data is available. A significant legislative change is also relevant: Congress increased military pay by 4.5% in January, with junior enlisted members receiving an additional 10% pay raise this April. Concerns have been raised about the increased use of waivers and higher first-term attrition rates. However, RAND research indicates that first-term attrition has not historically been higher among recruits with waivers, except for those with drug or alcohol waivers. Only the Air Force, Space Force, and Marine Corps have consistently meet quality benchmarks in FY 2025 through December. The turnaround in military recruiting is a positive development, but sustaining this success will require a strategic focus on effective initiatives and maintaining recruit quality.\n"
     ]
    }
   ],
   "source": [
    "import spacy\n",
    "from spacytextblob.spacytextblob import SpacyTextBlob\n",
    "import pickle\n",
    "\n",
    "nlp = spacy.load(\"en_core_web_sm\")\n",
    "if \"spacytextblob\" not in nlp.pipe_names:\n",
    "    nlp.add_pipe(\"spacytextblob\")\n",
    "\n",
    "with open(\"article_text.pkl\", \"rb\") as f:\n",
    "    article_text = pickle.load(f)\n",
    "\n",
    "doc = nlp(article_text)\n",
    "\n",
    "cutoff_token = 0.1\n",
    "\n",
    "summary_sentences = []\n",
    "\n",
    "for sent in doc.sents:\n",
    "    if sent._.blob.polarity > cutoff_token:\n",
    "        summary_sentences.append(sent.text.strip())\n",
    "\n",
    "summary_text = ' '.join(summary_sentences)\n",
    "\n",
    "with open(\"summary_text.pkl\", \"wb\") as f:\n",
    "    pickle.dump(summary_text, f)\n",
    "\n",
    "print(\"Summary based on token polarity scores > 0.1:\\n\")\n",
    "print(summary_text)"
   ]
  },
  {
   "cell_type": "markdown",
   "metadata": {},
   "source": [
    "### Q9. Print the polarity score of your summary you generated with the token scores (with an appropriate label). Additionally, print the number of sentences in the summarized article."
   ]
  },
  {
   "cell_type": "code",
   "execution_count": 4,
   "metadata": {},
   "outputs": [
    {
     "name": "stdout",
     "output_type": "stream",
     "text": [
      "Summary Polarity Score:  0.213\n",
      "Number of Sentences in the Summary:  8\n"
     ]
    }
   ],
   "source": [
    "import pickle\n",
    "\n",
    "with open(\"summary_text.pkl\", \"rb\") as f:\n",
    "    summary_text = pickle.load(f)\n",
    "\n",
    "summary_doc = nlp(summary_text)\n",
    "summary_polarity = summary_doc._.blob.polarity\n",
    "num_sentences = len(list(summary_doc.sents))\n",
    "\n",
    "print(f\"Summary Polarity Score:  {summary_polarity:.3f}\")\n",
    "print(f\"Number of Sentences in the Summary:  {num_sentences}\")"
   ]
  },
  {
   "cell_type": "markdown",
   "metadata": {},
   "source": [
    "### Q10. Create a summary of the article by going through every sentence in the article and adding it to an (initially) empty list if its score (based on lemmas) is greater than the cutoff score you identified in question 8.  If your loop variable is named `sent`, you may find it easier to add `sent.text.strip()` to your list of sentences.  Print the summary (I would cleanly generate the summary text by `join`ing the strings in your list together with a space (`' '.join(sentence_list)`)."
   ]
  },
  {
   "cell_type": "code",
   "execution_count": 5,
   "metadata": {},
   "outputs": [
    {
     "name": "stdout",
     "output_type": "stream",
     "text": [
      "Summary based on lemma polarity scores > 0.1:\n",
      "\n",
      "While there is no question the American military faces persistent challenges in attracting qualified recruits, the much-discussed recruiting crisis that has dogged most service branches in recent years appears to be easing. In a significant shift, last year saw gains in military recruiting across the services and most met their recruiting goals for the first time in years. As of Fiscal Year 2024, all branches of the U.S. military, except the Navy, have successfully met their active duty enlisted recruiting missions. A significant legislative change is also relevant: Congress increased military pay by 4.5% in January, with junior enlisted members receiving an additional 10% pay raise this April. Concerns have been raised about the increased use of waivers and higher first-term attrition rates. Moreover, first-term attrition appears to be below historic levels in the Army. Only the Air Force, Space Force, and Marine Corps have consistently meet quality benchmarks in FY 2025 through December. The turnaround in military recruiting is a positive development, but sustaining this success will require a strategic focus on effective initiatives and maintaining recruit quality.\n"
     ]
    }
   ],
   "source": [
    "import spacy\n",
    "from spacytextblob.spacytextblob import SpacyTextBlob\n",
    "import pickle\n",
    "\n",
    "nlp = spacy.load(\"en_core_web_sm\")\n",
    "if \"spacytextblob\" not in nlp.pipe_names:\n",
    "    nlp.add_pipe(\"spacytextblob\")\n",
    "\n",
    "with open(\"article_text.pkl\", \"rb\") as f:\n",
    "    article_text = pickle.load(f)\n",
    "\n",
    "doc = nlp(article_text)\n",
    "\n",
    "cutoff_lemma = 0.1\n",
    "\n",
    "summary_sentences_lemma = []\n",
    "\n",
    "for sent in doc.sents:\n",
    "    lemmas = [token.lemma_ for token in sent if not token.is_punct and not token.is_space]\n",
    "    lemma_sentence = \" \".join(lemmas)\n",
    "    lemma_doc = nlp(lemma_sentence)\n",
    "    if lemma_doc._.blob.polarity > cutoff_lemma:\n",
    "        summary_sentences_lemma.append(sent.text.strip())\n",
    "\n",
    "summary_text_lemma = ' '.join(summary_sentences_lemma)\n",
    "\n",
    "with open(\"summary_text_lemma.pkl\", \"wb\") as f:\n",
    "    pickle.dump(summary_text_lemma, f)\n",
    "\n",
    "print(\"Summary based on lemma polarity scores > 0.1:\\n\")\n",
    "print(summary_text_lemma)"
   ]
  },
  {
   "cell_type": "markdown",
   "metadata": {},
   "source": [
    "### Q11. Print the polarity score of your summary you generated with the lemma scores (with an appropriate label). Additionally, print the number of sentences in the summarized article."
   ]
  },
  {
   "cell_type": "code",
   "execution_count": 6,
   "metadata": {},
   "outputs": [
    {
     "name": "stdout",
     "output_type": "stream",
     "text": [
      "Summary Polarity Score (Lemmas):  0.180\n",
      "Number of Sentences in the Summary (Lemmas):  8\n"
     ]
    }
   ],
   "source": [
    "import pickle\n",
    "\n",
    "with open(\"summary_text_lemma.pkl\", \"rb\") as f:\n",
    "    summary_text_lemma = pickle.load(f)\n",
    "\n",
    "summary_doc_lemma = nlp(summary_text_lemma)\n",
    "summary_polarity_lemma = summary_doc_lemma._.blob.polarity\n",
    "num_sentences_lemma = len(list(summary_doc_lemma.sents))\n",
    "\n",
    "print(f\"Summary Polarity Score (Lemmas):  {summary_polarity_lemma:.3f}\")\n",
    "print(f\"Number of Sentences in the Summary (Lemmas):  {num_sentences_lemma}\")"
   ]
  },
  {
   "cell_type": "markdown",
   "metadata": {},
   "source": [
    "### Q12.  Compare your polarity scores of your summaries to the polarity scores of the initial article.  Is there a difference?  Why do you think that may or may not be?.  Answer in this Markdown cell.\n",
    "\n",
    "The polarity scores of both the token-based (0.213) and lemma-based (0.180) summaries are noticeably higher (more positive) than the polarity score of the original article (0.063). This indicates that the summaries tend to focus on sentences with more positive sentiment, likely because of the cutoff thresholds I applied when selecting sentences. The original article tries to maintain a neutral stance, and does a good job of that based on what the histograms show."
   ]
  },
  {
   "cell_type": "markdown",
   "metadata": {},
   "source": [
    "### Q13. Based on your reading of the original article, which summary do you think is better (if there's a difference).  Why do you think this might be?\n",
    "\n",
    "I think the token-based summary is better because it captures the original tone, even if more positive, and focuses on key topics within the article. Also, while the lemma-based summary is similar in content and tone, it is less accurate since it is based on simplified versions of the original words within the sentences."
   ]
  }
 ],
 "metadata": {
  "kernelspec": {
   "display_name": "Python (jp-venv)",
   "language": "python",
   "name": "jp-venv"
  },
  "language_info": {
   "codemirror_mode": {
    "name": "ipython",
    "version": 3
   },
   "file_extension": ".py",
   "mimetype": "text/x-python",
   "name": "python",
   "nbconvert_exporter": "python",
   "pygments_lexer": "ipython3",
   "version": "3.12.5"
  }
 },
 "nbformat": 4,
 "nbformat_minor": 4
}
